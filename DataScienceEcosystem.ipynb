{
  "nbformat": 4,
  "nbformat_minor": 0,
  "metadata": {
    "colab": {
      "provenance": []
    },
    "kernelspec": {
      "name": "python3",
      "display_name": "Python 3"
    },
    "language_info": {
      "name": "python"
    }
  },
  "cells": [
    {
      "cell_type": "markdown",
      "metadata": {
        "id": "c0a409f2"
      },
      "source": [
        "# Data Science Tools and Ecosystem"
      ]
    },
    {
      "cell_type": "markdown",
      "metadata": {
        "id": "b5f92083"
      },
      "source": [
        "In this notebook, Data Science Tools and Ecosystem are summarized. Through various exercises, we will explore key data science languages, libraries, tools, and simple arithmetic operations using Python (Colab)."
      ]
    },
    {
      "cell_type": "markdown",
      "source": [
        "## Exercise 4 - Create a markdown cell to list data science languages\n",
        "\n",
        "\n",
        "Some of the popular languages that Data Scientists use are:\n",
        "\n",
        "1. R\n",
        "2. Java\n",
        "3. SQL\n",
        "4. Python\n",
        "5. Julia"
      ],
      "metadata": {
        "id": "NK0SVSam36bs"
      }
    },
    {
      "cell_type": "markdown",
      "metadata": {
        "id": "55d2d363"
      },
      "source": [
        "## Exercise 5 - Create a markdown cell to list data science libraries\n",
        "Some of the commonly used libraries used by Data Scientists include:\n",
        "\n",
        "1. Pandas\n",
        "2. Numpy\n",
        "3. Matplotlib\n",
        "4. Scikit-learn\n",
        "5. TensorFlow\n"
      ]
    },
    {
      "cell_type": "markdown",
      "metadata": {
        "id": "199f23a8"
      },
      "source": [
        "## Exercise 6 - Create a markdown cell with a table of Data Science tools\n",
        "\n",
        "| **Data Science Tools**     |\n",
        "|----------------------------|\n",
        "| Jupyter Notebook            |\n",
        "| RStudio                     |\n",
        "| Apache Zeppelin             |\n"
      ]
    },
    {
      "cell_type": "markdown",
      "metadata": {
        "id": "aa5669af"
      },
      "source": [
        "## Exercise 7 - Create a markdown cell introducing arithmetic expression examples\n",
        "\n",
        "Below are a few examples of evaluating arithmetic expressions in Python.\n",
        "\n",
        "1. **Addition:** `5 + 6 = 11`\n",
        "   \n",
        "2. **Subtraction:** `10 - 4 = 6`\n",
        "   \n",
        "3. **Multiplication:** `3 * 8 = 24`\n",
        "   \n",
        "4. **Division:** `12 / 3 = 4`\n",
        "   \n",
        "5. **Exponentiation:** `2 ** 3 = 8`\n",
        "\n",
        "6. **Parentheses and mixed operations:** `(3 * 4) + 6 = 18`\n",
        "\n",
        "7. **Mixed operations with exponents and division:**  \n",
        "   `2 ** 3 / 4 + 6 = 8.0`\n",
        "\n",
        "8. **Parentheses with nested operations:**  \n",
        "   `(5 + (3 * 4)) - 3 = 14`\n",
        "\n",
        "9. **Exponentiation and square roots:**  \n",
        "   `16 ** (1/2) = 4.0` (Square root of 16)\n",
        "\n",
        "10. **Compound expression with multiple operations:**  \n",
        "   `(3 * 4) + (5 ** 2) - (18 / 3) = 31.0`"
      ]
    },
    {
      "cell_type": "markdown",
      "metadata": {
        "id": "8321bd7a"
      },
      "source": [
        "## Exercise 8 - Create a code cell to multiply and add numbers"
      ]
    },
    {
      "cell_type": "code",
      "execution_count": 1,
      "metadata": {
        "colab": {
          "base_uri": "https://localhost:8080/"
        },
        "id": "07df80f5",
        "outputId": "6ec8c281-744f-411f-a41a-1a751328c3b3"
      },
      "outputs": [
        {
          "output_type": "execute_result",
          "data": {
            "text/plain": [
              "17"
            ]
          },
          "metadata": {},
          "execution_count": 1
        }
      ],
      "source": [
        "# This is a simple arithmetic expression to multiply then add integers\n",
        "(3 * 4) + 5"
      ]
    },
    {
      "cell_type": "markdown",
      "metadata": {
        "id": "ce63ff36"
      },
      "source": [
        "## Exercise 9 - Create a code cell to convert minutes to hours\n"
      ]
    },
    {
      "cell_type": "code",
      "execution_count": 2,
      "metadata": {
        "colab": {
          "base_uri": "https://localhost:8080/"
        },
        "id": "a8d8c04d",
        "outputId": "3c755b68-dff0-45c0-df0d-0d7942005123"
      },
      "outputs": [
        {
          "output_type": "execute_result",
          "data": {
            "text/plain": [
              "3.3333333333333335"
            ]
          },
          "metadata": {},
          "execution_count": 2
        }
      ],
      "source": [
        "# This will convert 200 minutes to hours by dividing by 60\n",
        "200 / 60"
      ]
    },
    {
      "cell_type": "markdown",
      "metadata": {
        "id": "5eae6bfe"
      },
      "source": [
        "## Exercise 10 - Insert a markdown cell to list Objectives"
      ]
    },
    {
      "cell_type": "markdown",
      "metadata": {
        "id": "3b0d8dfc"
      },
      "source": [
        "**Objectives:**\n",
        "\n",
        "- List popular languages for Data Science\n",
        "- Identify commonly used Data Science libraries\n",
        "- Explore different open-source Data Science tools\n",
        "- Perform basic arithmetic operations in Python"
      ]
    },
    {
      "cell_type": "markdown",
      "metadata": {
        "id": "4d0a23c2"
      },
      "source": [
        "## Exercise 11 - Create a markdown cell to indicate the Author's name"
      ]
    },
    {
      "cell_type": "markdown",
      "metadata": {
        "id": "f8f15536"
      },
      "source": [
        "## Author\n",
        "\n",
        "Guliver Lemarie Mamani"
      ]
    }
  ]
}